{
 "cells": [
  {
   "cell_type": "markdown",
   "metadata": {},
   "source": [
    "# Midtest - Usecase Python (Apartment Price in Victoria)\n",
    "\n",
    "## By Firdaus Adi Nugroho"
   ]
  },
  {
   "cell_type": "code",
   "execution_count": 124,
   "metadata": {},
   "outputs": [],
   "source": [
    "import pandas as pd  \n",
    "import numpy as np  \n",
    "import matplotlib.pyplot as plt  \n",
    "import seaborn as seabornInstance \n",
    "from sklearn.model_selection import train_test_split \n",
    "from sklearn.linear_model import LinearRegression\n",
    "from sklearn import metrics\n",
    "import seaborn as sns\n",
    "%matplotlib inline\n",
    "from sklearn.linear_model import LinearRegression,Ridge, Lasso\n",
    "from sklearn.tree import DecisionTreeRegressor\n",
    "from sklearn.ensemble import GradientBoostingRegressor, RandomForestRegressor, GradientBoostingRegressor\n",
    "from sklearn.svm import LinearSVR, SVR\n",
    "from sklearn.neighbors import KNeighborsRegressor\n",
    "from sklearn.neural_network import MLPRegressor\n",
    "import warnings\n",
    "warnings.filterwarnings('ignore')"
   ]
  },
  {
   "cell_type": "markdown",
   "metadata": {},
   "source": [
    "# Dataset\n",
    "Apartment Price in Victoria"
   ]
  },
  {
   "cell_type": "markdown",
   "metadata": {},
   "source": [
    "# Background\n",
    "The Dataset provides living area and conservation status.\n",
    "There are 218 observations and 16 variables."
   ]
  },
  {
   "cell_type": "markdown",
   "metadata": {},
   "source": [
    "# Objectives\n",
    "Create a python script for the Use Case below, please upload the script after you finish.\n",
    "The Problem is to determine the best model and give the reason.\n",
    "\n",
    "Tony who has profession as a broker wants to predict apartment price in Victoria based on living\n",
    "area environment and apartment conservation status. Determine the best model to predict and\n",
    "redefine new conservation variable in 3 level, A = 1A, B = 2A, C = 2B and 3A."
   ]
  },
  {
   "cell_type": "markdown",
   "metadata": {},
   "source": [
    "# Instructions\n",
    "Download the dataset as a CSV file and place it in your current working directory with the filename\n",
    "\"victoria.csv\".\n",
    "1. Import Dataset: Load the dataset.\n",
    "2. Exploratory Data Analysis: Create summary of the dataset, with python function. (mean, median, modus, max, min, range)\n",
    "3. Data Visualization: Create any kind suitable plot of dataset, it will provide a lot of insight into the problem.\n",
    "4. Variable Selection: Choose the variable and its reason.\n",
    "5. Modelling: Create models using Regression\n",
    "6. Accuracy or Error: Calculate the Error using the helper function from the library, fromdataset only"
   ]
  },
  {
   "cell_type": "markdown",
   "metadata": {},
   "source": [
    "## 1. Import Dataset: Load the dataset."
   ]
  },
  {
   "cell_type": "code",
   "execution_count": 89,
   "metadata": {},
   "outputs": [
    {
     "data": {
      "text/html": [
       "<div>\n",
       "<style scoped>\n",
       "    .dataframe tbody tr th:only-of-type {\n",
       "        vertical-align: middle;\n",
       "    }\n",
       "\n",
       "    .dataframe tbody tr th {\n",
       "        vertical-align: top;\n",
       "    }\n",
       "\n",
       "    .dataframe thead th {\n",
       "        text-align: right;\n",
       "    }\n",
       "</style>\n",
       "<table border=\"1\" class=\"dataframe\">\n",
       "  <thead>\n",
       "    <tr style=\"text-align: right;\">\n",
       "      <th></th>\n",
       "      <th>row.labels</th>\n",
       "      <th>totalprice</th>\n",
       "      <th>area</th>\n",
       "      <th>zone</th>\n",
       "      <th>category</th>\n",
       "      <th>age</th>\n",
       "      <th>floor</th>\n",
       "      <th>rooms</th>\n",
       "      <th>out</th>\n",
       "      <th>conservation</th>\n",
       "      <th>toilets</th>\n",
       "      <th>garage</th>\n",
       "      <th>elevator</th>\n",
       "      <th>streetcategory</th>\n",
       "      <th>heating</th>\n",
       "      <th>tras</th>\n",
       "    </tr>\n",
       "  </thead>\n",
       "  <tbody>\n",
       "    <tr>\n",
       "      <th>0</th>\n",
       "      <td>1</td>\n",
       "      <td>228000.0</td>\n",
       "      <td>7530999756</td>\n",
       "      <td>Z45</td>\n",
       "      <td>4B</td>\n",
       "      <td>33</td>\n",
       "      <td>3</td>\n",
       "      <td>5</td>\n",
       "      <td>E100</td>\n",
       "      <td>2B</td>\n",
       "      <td>1</td>\n",
       "      <td>0</td>\n",
       "      <td>1</td>\n",
       "      <td>S3</td>\n",
       "      <td>3A</td>\n",
       "      <td>0</td>\n",
       "    </tr>\n",
       "    <tr>\n",
       "      <th>1</th>\n",
       "      <td>2</td>\n",
       "      <td>409000.0</td>\n",
       "      <td>1006500015</td>\n",
       "      <td>Z31</td>\n",
       "      <td>3B</td>\n",
       "      <td>5</td>\n",
       "      <td>7</td>\n",
       "      <td>5</td>\n",
       "      <td>E50</td>\n",
       "      <td>1A</td>\n",
       "      <td>2</td>\n",
       "      <td>1</td>\n",
       "      <td>1</td>\n",
       "      <td>S5</td>\n",
       "      <td>4A</td>\n",
       "      <td>1</td>\n",
       "    </tr>\n",
       "    <tr>\n",
       "      <th>2</th>\n",
       "      <td>3</td>\n",
       "      <td>200000.0</td>\n",
       "      <td>8887000275</td>\n",
       "      <td>Z52</td>\n",
       "      <td>3A</td>\n",
       "      <td>14</td>\n",
       "      <td>8</td>\n",
       "      <td>5</td>\n",
       "      <td>E50</td>\n",
       "      <td>1A</td>\n",
       "      <td>2</td>\n",
       "      <td>0</td>\n",
       "      <td>1</td>\n",
       "      <td>S2</td>\n",
       "      <td>3A</td>\n",
       "      <td>0</td>\n",
       "    </tr>\n",
       "    <tr>\n",
       "      <th>3</th>\n",
       "      <td>4</td>\n",
       "      <td>180000.0</td>\n",
       "      <td>6261000061</td>\n",
       "      <td>Z62</td>\n",
       "      <td>4A</td>\n",
       "      <td>41</td>\n",
       "      <td>3</td>\n",
       "      <td>4</td>\n",
       "      <td>E50</td>\n",
       "      <td>2A</td>\n",
       "      <td>1</td>\n",
       "      <td>0</td>\n",
       "      <td>0</td>\n",
       "      <td>S3</td>\n",
       "      <td>1A</td>\n",
       "      <td>0</td>\n",
       "    </tr>\n",
       "    <tr>\n",
       "      <th>4</th>\n",
       "      <td>5</td>\n",
       "      <td>443600.0</td>\n",
       "      <td>1461499939</td>\n",
       "      <td>Z31</td>\n",
       "      <td>3A</td>\n",
       "      <td>22</td>\n",
       "      <td>6</td>\n",
       "      <td>7</td>\n",
       "      <td>E100</td>\n",
       "      <td>1A</td>\n",
       "      <td>2</td>\n",
       "      <td>0</td>\n",
       "      <td>1</td>\n",
       "      <td>S4</td>\n",
       "      <td>4A</td>\n",
       "      <td>1</td>\n",
       "    </tr>\n",
       "  </tbody>\n",
       "</table>\n",
       "</div>"
      ],
      "text/plain": [
       "   row.labels  totalprice        area zone category  age  floor  rooms   out  \\\n",
       "0           1    228000.0  7530999756  Z45       4B   33      3      5  E100   \n",
       "1           2    409000.0  1006500015  Z31       3B    5      7      5   E50   \n",
       "2           3    200000.0  8887000275  Z52       3A   14      8      5   E50   \n",
       "3           4    180000.0  6261000061  Z62       4A   41      3      4   E50   \n",
       "4           5    443600.0  1461499939  Z31       3A   22      6      7  E100   \n",
       "\n",
       "  conservation  toilets  garage  elevator streetcategory heating  tras  \n",
       "0           2B        1       0         1             S3      3A     0  \n",
       "1           1A        2       1         1             S5      4A     1  \n",
       "2           1A        2       0         1             S2      3A     0  \n",
       "3           2A        1       0         0             S3      1A     0  \n",
       "4           1A        2       0         1             S4      4A     1  "
      ]
     },
     "execution_count": 89,
     "metadata": {},
     "output_type": "execute_result"
    }
   ],
   "source": [
    "df = pd.read_csv('victoria.csv', sep = ';')\n",
    "df.head()"
   ]
  },
  {
   "cell_type": "markdown",
   "metadata": {},
   "source": [
    "Melakukan load dataset Victoria, dan melakukan display data untuk mengetahui kolom apa saja yang tersedia pada dataset victoria ini.\n",
    "Beberapa kolom yang akan diolah:\n",
    "1. Totalprice = menunjukkan harga\n",
    "2. area = luas apartemen yang akan disewa\n",
    "3. zone = jenis zona\n",
    "4. category = kategory dari rumah apartemen\n",
    "5. Age = umur penghuni\n",
    "6. floor = Pada lantai berapa penghuni\n",
    "7. Rooms = Jumlah ruangan yang ditempati penghuni\n",
    "8. Toilet = Jumlah toilet pada tempat huni\n",
    "9. Elevator = Adanya lift pada rumah huni"
   ]
  },
  {
   "cell_type": "markdown",
   "metadata": {},
   "source": [
    "## 2. Exploratory Data Analysis: Create summary of the dataset, with python function. (mean,median, modus, max, min, range)"
   ]
  },
  {
   "cell_type": "code",
   "execution_count": 90,
   "metadata": {},
   "outputs": [
    {
     "data": {
      "text/html": [
       "<div>\n",
       "<style scoped>\n",
       "    .dataframe tbody tr th:only-of-type {\n",
       "        vertical-align: middle;\n",
       "    }\n",
       "\n",
       "    .dataframe tbody tr th {\n",
       "        vertical-align: top;\n",
       "    }\n",
       "\n",
       "    .dataframe thead th {\n",
       "        text-align: right;\n",
       "    }\n",
       "</style>\n",
       "<table border=\"1\" class=\"dataframe\">\n",
       "  <thead>\n",
       "    <tr style=\"text-align: right;\">\n",
       "      <th></th>\n",
       "      <th>row.labels</th>\n",
       "      <th>totalprice</th>\n",
       "      <th>age</th>\n",
       "      <th>floor</th>\n",
       "      <th>rooms</th>\n",
       "      <th>toilets</th>\n",
       "      <th>garage</th>\n",
       "      <th>elevator</th>\n",
       "      <th>tras</th>\n",
       "    </tr>\n",
       "  </thead>\n",
       "  <tbody>\n",
       "    <tr>\n",
       "      <th>count</th>\n",
       "      <td>218.000000</td>\n",
       "      <td>218.000000</td>\n",
       "      <td>218.000000</td>\n",
       "      <td>218.000000</td>\n",
       "      <td>218.000000</td>\n",
       "      <td>218.000000</td>\n",
       "      <td>218.000000</td>\n",
       "      <td>218.000000</td>\n",
       "      <td>218.000000</td>\n",
       "    </tr>\n",
       "    <tr>\n",
       "      <th>mean</th>\n",
       "      <td>109.500000</td>\n",
       "      <td>280741.523853</td>\n",
       "      <td>19.899083</td>\n",
       "      <td>4.440367</td>\n",
       "      <td>4.853211</td>\n",
       "      <td>1.467890</td>\n",
       "      <td>0.243119</td>\n",
       "      <td>0.798165</td>\n",
       "      <td>0.807339</td>\n",
       "    </tr>\n",
       "    <tr>\n",
       "      <th>std</th>\n",
       "      <td>63.075352</td>\n",
       "      <td>69298.459358</td>\n",
       "      <td>14.595590</td>\n",
       "      <td>2.126988</td>\n",
       "      <td>0.634285</td>\n",
       "      <td>0.500116</td>\n",
       "      <td>0.450881</td>\n",
       "      <td>0.402293</td>\n",
       "      <td>0.406787</td>\n",
       "    </tr>\n",
       "    <tr>\n",
       "      <th>min</th>\n",
       "      <td>1.000000</td>\n",
       "      <td>155000.000000</td>\n",
       "      <td>1.000000</td>\n",
       "      <td>1.000000</td>\n",
       "      <td>3.000000</td>\n",
       "      <td>1.000000</td>\n",
       "      <td>0.000000</td>\n",
       "      <td>0.000000</td>\n",
       "      <td>0.000000</td>\n",
       "    </tr>\n",
       "    <tr>\n",
       "      <th>25%</th>\n",
       "      <td>55.250000</td>\n",
       "      <td>228500.000000</td>\n",
       "      <td>11.000000</td>\n",
       "      <td>3.000000</td>\n",
       "      <td>5.000000</td>\n",
       "      <td>1.000000</td>\n",
       "      <td>0.000000</td>\n",
       "      <td>1.000000</td>\n",
       "      <td>1.000000</td>\n",
       "    </tr>\n",
       "    <tr>\n",
       "      <th>50%</th>\n",
       "      <td>109.500000</td>\n",
       "      <td>269750.000000</td>\n",
       "      <td>16.000000</td>\n",
       "      <td>4.000000</td>\n",
       "      <td>5.000000</td>\n",
       "      <td>1.000000</td>\n",
       "      <td>0.000000</td>\n",
       "      <td>1.000000</td>\n",
       "      <td>1.000000</td>\n",
       "    </tr>\n",
       "    <tr>\n",
       "      <th>75%</th>\n",
       "      <td>163.750000</td>\n",
       "      <td>328625.000000</td>\n",
       "      <td>24.000000</td>\n",
       "      <td>5.000000</td>\n",
       "      <td>5.000000</td>\n",
       "      <td>2.000000</td>\n",
       "      <td>0.000000</td>\n",
       "      <td>1.000000</td>\n",
       "      <td>1.000000</td>\n",
       "    </tr>\n",
       "    <tr>\n",
       "      <th>max</th>\n",
       "      <td>218.000000</td>\n",
       "      <td>560000.000000</td>\n",
       "      <td>118.000000</td>\n",
       "      <td>12.000000</td>\n",
       "      <td>7.000000</td>\n",
       "      <td>2.000000</td>\n",
       "      <td>2.000000</td>\n",
       "      <td>1.000000</td>\n",
       "      <td>2.000000</td>\n",
       "    </tr>\n",
       "  </tbody>\n",
       "</table>\n",
       "</div>"
      ],
      "text/plain": [
       "       row.labels     totalprice         age       floor       rooms  \\\n",
       "count  218.000000     218.000000  218.000000  218.000000  218.000000   \n",
       "mean   109.500000  280741.523853   19.899083    4.440367    4.853211   \n",
       "std     63.075352   69298.459358   14.595590    2.126988    0.634285   \n",
       "min      1.000000  155000.000000    1.000000    1.000000    3.000000   \n",
       "25%     55.250000  228500.000000   11.000000    3.000000    5.000000   \n",
       "50%    109.500000  269750.000000   16.000000    4.000000    5.000000   \n",
       "75%    163.750000  328625.000000   24.000000    5.000000    5.000000   \n",
       "max    218.000000  560000.000000  118.000000   12.000000    7.000000   \n",
       "\n",
       "          toilets      garage    elevator        tras  \n",
       "count  218.000000  218.000000  218.000000  218.000000  \n",
       "mean     1.467890    0.243119    0.798165    0.807339  \n",
       "std      0.500116    0.450881    0.402293    0.406787  \n",
       "min      1.000000    0.000000    0.000000    0.000000  \n",
       "25%      1.000000    0.000000    1.000000    1.000000  \n",
       "50%      1.000000    0.000000    1.000000    1.000000  \n",
       "75%      2.000000    0.000000    1.000000    1.000000  \n",
       "max      2.000000    2.000000    1.000000    2.000000  "
      ]
     },
     "execution_count": 90,
     "metadata": {},
     "output_type": "execute_result"
    }
   ],
   "source": [
    "df.describe()"
   ]
  },
  {
   "cell_type": "markdown",
   "metadata": {},
   "source": [
    "## 3.Data Visualization: Create any kind suitable plot of dataset, it will provide a lot of insight into the problem."
   ]
  },
  {
   "cell_type": "code",
   "execution_count": 94,
   "metadata": {},
   "outputs": [],
   "source": [
    "numeric = df.columns[[1,2,5]]\n",
    "data_numeric = df[numeric]\n",
    "categorical = df.drop(columns=numeric,axis=1)\n",
    "data_categorical = df.columns"
   ]
  },
  {
   "cell_type": "code",
   "execution_count": 95,
   "metadata": {},
   "outputs": [
    {
     "data": {
      "text/html": [
       "<div>\n",
       "<style scoped>\n",
       "    .dataframe tbody tr th:only-of-type {\n",
       "        vertical-align: middle;\n",
       "    }\n",
       "\n",
       "    .dataframe tbody tr th {\n",
       "        vertical-align: top;\n",
       "    }\n",
       "\n",
       "    .dataframe thead th {\n",
       "        text-align: right;\n",
       "    }\n",
       "</style>\n",
       "<table border=\"1\" class=\"dataframe\">\n",
       "  <thead>\n",
       "    <tr style=\"text-align: right;\">\n",
       "      <th></th>\n",
       "      <th>row.labels</th>\n",
       "      <th>zone</th>\n",
       "      <th>category</th>\n",
       "      <th>floor</th>\n",
       "      <th>rooms</th>\n",
       "      <th>out</th>\n",
       "      <th>conservation</th>\n",
       "      <th>toilets</th>\n",
       "      <th>garage</th>\n",
       "      <th>elevator</th>\n",
       "      <th>streetcategory</th>\n",
       "      <th>heating</th>\n",
       "      <th>tras</th>\n",
       "    </tr>\n",
       "  </thead>\n",
       "  <tbody>\n",
       "    <tr>\n",
       "      <th>0</th>\n",
       "      <td>1</td>\n",
       "      <td>Z45</td>\n",
       "      <td>4B</td>\n",
       "      <td>3</td>\n",
       "      <td>5</td>\n",
       "      <td>E100</td>\n",
       "      <td>C</td>\n",
       "      <td>1</td>\n",
       "      <td>0</td>\n",
       "      <td>1</td>\n",
       "      <td>S3</td>\n",
       "      <td>3A</td>\n",
       "      <td>0</td>\n",
       "    </tr>\n",
       "    <tr>\n",
       "      <th>1</th>\n",
       "      <td>2</td>\n",
       "      <td>Z31</td>\n",
       "      <td>3B</td>\n",
       "      <td>7</td>\n",
       "      <td>5</td>\n",
       "      <td>E50</td>\n",
       "      <td>A</td>\n",
       "      <td>2</td>\n",
       "      <td>1</td>\n",
       "      <td>1</td>\n",
       "      <td>S5</td>\n",
       "      <td>4A</td>\n",
       "      <td>1</td>\n",
       "    </tr>\n",
       "    <tr>\n",
       "      <th>2</th>\n",
       "      <td>3</td>\n",
       "      <td>Z52</td>\n",
       "      <td>3A</td>\n",
       "      <td>8</td>\n",
       "      <td>5</td>\n",
       "      <td>E50</td>\n",
       "      <td>A</td>\n",
       "      <td>2</td>\n",
       "      <td>0</td>\n",
       "      <td>1</td>\n",
       "      <td>S2</td>\n",
       "      <td>3A</td>\n",
       "      <td>0</td>\n",
       "    </tr>\n",
       "    <tr>\n",
       "      <th>3</th>\n",
       "      <td>4</td>\n",
       "      <td>Z62</td>\n",
       "      <td>4A</td>\n",
       "      <td>3</td>\n",
       "      <td>4</td>\n",
       "      <td>E50</td>\n",
       "      <td>B</td>\n",
       "      <td>1</td>\n",
       "      <td>0</td>\n",
       "      <td>0</td>\n",
       "      <td>S3</td>\n",
       "      <td>1A</td>\n",
       "      <td>0</td>\n",
       "    </tr>\n",
       "    <tr>\n",
       "      <th>4</th>\n",
       "      <td>5</td>\n",
       "      <td>Z31</td>\n",
       "      <td>3A</td>\n",
       "      <td>6</td>\n",
       "      <td>7</td>\n",
       "      <td>E100</td>\n",
       "      <td>A</td>\n",
       "      <td>2</td>\n",
       "      <td>0</td>\n",
       "      <td>1</td>\n",
       "      <td>S4</td>\n",
       "      <td>4A</td>\n",
       "      <td>1</td>\n",
       "    </tr>\n",
       "  </tbody>\n",
       "</table>\n",
       "</div>"
      ],
      "text/plain": [
       "   row.labels zone category  floor  rooms   out conservation  toilets  garage  \\\n",
       "0           1  Z45       4B      3      5  E100            C        1       0   \n",
       "1           2  Z31       3B      7      5   E50            A        2       1   \n",
       "2           3  Z52       3A      8      5   E50            A        2       0   \n",
       "3           4  Z62       4A      3      4   E50            B        1       0   \n",
       "4           5  Z31       3A      6      7  E100            A        2       0   \n",
       "\n",
       "   elevator streetcategory heating  tras  \n",
       "0         1             S3      3A     0  \n",
       "1         1             S5      4A     1  \n",
       "2         1             S2      3A     0  \n",
       "3         0             S3      1A     0  \n",
       "4         1             S4      4A     1  "
      ]
     },
     "execution_count": 95,
     "metadata": {},
     "output_type": "execute_result"
    }
   ],
   "source": [
    "categorical.head()"
   ]
  },
  {
   "cell_type": "code",
   "execution_count": 97,
   "metadata": {},
   "outputs": [
    {
     "data": {
      "text/html": [
       "<div>\n",
       "<style scoped>\n",
       "    .dataframe tbody tr th:only-of-type {\n",
       "        vertical-align: middle;\n",
       "    }\n",
       "\n",
       "    .dataframe tbody tr th {\n",
       "        vertical-align: top;\n",
       "    }\n",
       "\n",
       "    .dataframe thead th {\n",
       "        text-align: right;\n",
       "    }\n",
       "</style>\n",
       "<table border=\"1\" class=\"dataframe\">\n",
       "  <thead>\n",
       "    <tr style=\"text-align: right;\">\n",
       "      <th></th>\n",
       "      <th>totalprice</th>\n",
       "      <th>area</th>\n",
       "      <th>age</th>\n",
       "    </tr>\n",
       "  </thead>\n",
       "  <tbody>\n",
       "    <tr>\n",
       "      <th>0</th>\n",
       "      <td>228000.0</td>\n",
       "      <td>7530999756</td>\n",
       "      <td>33</td>\n",
       "    </tr>\n",
       "    <tr>\n",
       "      <th>1</th>\n",
       "      <td>409000.0</td>\n",
       "      <td>1006500015</td>\n",
       "      <td>5</td>\n",
       "    </tr>\n",
       "    <tr>\n",
       "      <th>2</th>\n",
       "      <td>200000.0</td>\n",
       "      <td>8887000275</td>\n",
       "      <td>14</td>\n",
       "    </tr>\n",
       "    <tr>\n",
       "      <th>3</th>\n",
       "      <td>180000.0</td>\n",
       "      <td>6261000061</td>\n",
       "      <td>41</td>\n",
       "    </tr>\n",
       "    <tr>\n",
       "      <th>4</th>\n",
       "      <td>443600.0</td>\n",
       "      <td>1461499939</td>\n",
       "      <td>22</td>\n",
       "    </tr>\n",
       "  </tbody>\n",
       "</table>\n",
       "</div>"
      ],
      "text/plain": [
       "   totalprice        area  age\n",
       "0    228000.0  7530999756   33\n",
       "1    409000.0  1006500015    5\n",
       "2    200000.0  8887000275   14\n",
       "3    180000.0  6261000061   41\n",
       "4    443600.0  1461499939   22"
      ]
     },
     "execution_count": 97,
     "metadata": {},
     "output_type": "execute_result"
    }
   ],
   "source": [
    "data_numeric.head()"
   ]
  },
  {
   "cell_type": "markdown",
   "metadata": {},
   "source": [
    "Melakukan split antara data numeric dan data categorical agar memudahkan Visualisasi Data"
   ]
  },
  {
   "cell_type": "code",
   "execution_count": 93,
   "metadata": {},
   "outputs": [],
   "source": [
    "df['conservation'][df['conservation'] == '1A'] = 'A'\n",
    "df['conservation'][df['conservation'] == '2A'] = 'B'\n",
    "df['conservation'][df['conservation'] == '2B'] = 'C'\n",
    "df['conservation'][df['conservation'] == '3A'] = 'C'"
   ]
  },
  {
   "cell_type": "markdown",
   "metadata": {},
   "source": [
    "Melakukan pembaharuan kolom \"conservation\""
   ]
  },
  {
   "cell_type": "markdown",
   "metadata": {},
   "source": [
    "## Korelasi Antar Variabel"
   ]
  },
  {
   "cell_type": "code",
   "execution_count": 100,
   "metadata": {},
   "outputs": [
    {
     "data": {
      "text/plain": [
       "<matplotlib.axes._subplots.AxesSubplot at 0x14f2f6f6e80>"
      ]
     },
     "execution_count": 100,
     "metadata": {},
     "output_type": "execute_result"
    },
    {
     "data": {
      "image/png": "[encoded data removed]",
      "text/plain": [
       "<matplotlib.figure.Figure at 0x14f2c03bcc0>"
      ]
     },
     "metadata": {},
     "output_type": "display_data"
    }
   ],
   "source": [
    "#create correlation with hitmap\n",
    "\n",
    "#from this correlation, we know the value percentages of the correlation(1 or -1). The bigger value, so the correlation has big value too.\n",
    "#weather has big correlation with the lattitude (-0,78). \n",
    "\n",
    "#create correlation\n",
    "corr = df.corr(method = 'pearson')\n",
    "\n",
    "#convert correlation to numpy array\n",
    "mask = np.array(corr)\n",
    "\n",
    "#to mask the repetitive value for each pair\n",
    "mask[np.tril_indices_from(mask)] = False\n",
    "fig, ax = plt.subplots(figsize = (15,12))\n",
    "fig.set_size_inches(30,15)\n",
    "sns.heatmap(corr, mask = mask, vmax = 0.9, square = True, annot = True)"
   ]
  },
  {
   "cell_type": "markdown",
   "metadata": {},
   "source": [
    "Mari kita fokus terhadap variabel totalprice terhadap variabel lain. Karena totalprice akan saya gunakan untuk melakukan model\n",
    "Korelasi paling besar terhadap totalprice ialah toilets dan rooms, sementara korelasi paling kecil ialah floor sehingga mungkin kita bisa hapus floor sebagai variabel untuk melakukan regresi<br>\n",
    "Kita dapat melakukan Data Visualisasi berdasarkan nilai korelasi yang cukup tinggi agar mendukung analisis sebelum melakukan pemodelan"
   ]
  },
  {
   "cell_type": "markdown",
   "metadata": {},
   "source": [
    "## Jumlah terbanyak antara Rooms, toiltes, garage, dan elevator"
   ]
  },
  {
   "cell_type": "code",
   "execution_count": 58,
   "metadata": {},
   "outputs": [
    {
     "data": {
      "text/plain": [
       "<function matplotlib.pyplot.show>"
      ]
     },
     "execution_count": 58,
     "metadata": {},
     "output_type": "execute_result"
    },
    {
     "data": {
      "image/png": "[encoded data removed]",
      "text/plain": [
       "<matplotlib.figure.Figure at 0x14f2eb887f0>"
      ]
     },
     "metadata": {},
     "output_type": "display_data"
    }
   ],
   "source": [
    "f=plt.figure(figsize=(15,8))\n",
    "j=1\n",
    "for i in data_categorical[[7,10,11,12]]:\n",
    "    f.add_subplot(2,2,j)\n",
    "    sns.countplot(df[i],order=df[i].value_counts().index)\n",
    "    j+=1\n",
    "plt.show"
   ]
  },
  {
   "cell_type": "markdown",
   "metadata": {},
   "source": [
    "### Kesimpulan\n",
    "Pada data diatas kita dapat simpulkan bahwa:\n",
    "1. Setiap rumah huni apartemen, Paling banyak memiliki 5 ruangan\n",
    "2. Setiap rumah huni hanya memiliki 1 atau 2 toilet dengan 1 toilet memiliki sedikit lebih banyak daripada yang memiliki 2 toilet\n",
    "3. Setiap rumah hini kebanyakan tidak memiliki garasi di apartemen.<br>\n",
    "\n",
    "Sehingga dari rumah huni apartemen yang paling banyak ialah terdiri dari 5 ruangan, 1 buah toilet, dan tidak memiliki garasi"
   ]
  },
  {
   "cell_type": "markdown",
   "metadata": {},
   "source": [
    "## Perbandingan antara harga rumah huni apartemen terhadap category apartemen dan rooms"
   ]
  },
  {
   "cell_type": "code",
   "execution_count": 110,
   "metadata": {},
   "outputs": [
    {
     "data": {
      "text/plain": [
       "Text(0.5,1,'')"
      ]
     },
     "execution_count": 110,
     "metadata": {},
     "output_type": "execute_result"
    },
    {
     "data": {
      "image/png": "[encoded data removed]",
      "text/plain": [
       "<matplotlib.figure.Figure at 0x14f30ebbf60>"
      ]
     },
     "metadata": {},
     "output_type": "display_data"
    }
   ],
   "source": [
    "category_sort = df[['category','totalprice']].groupby('category').mean().sort_values('totalprice', ascending=False)\n",
    "room_sort = df[['rooms','totalprice']].groupby('rooms').mean().sort_values('totalprice', ascending=False)\n",
    "\n",
    "f = plt.figure(figsize=(15,8))\n",
    "\n",
    "f.add_subplot(2,1,1)\n",
    "sns.barplot(df['category'], df['totalprice'], color = 'magenta',data=df, hue='toilets',order = category_sort.index )\n",
    "plt.xlabel('category')\n",
    "plt.ylabel('total price')\n",
    "plt.title('')\n",
    "\n",
    "f.add_subplot(2,1,2)\n",
    "sns.barplot(df['rooms'], df['totalprice'], color = 'pink', data=df, hue='toilets',order = room_sort.index)\n",
    "plt.xlabel('rooms')\n",
    "plt.ylabel('total price')\n",
    "plt.title('')"
   ]
  },
  {
   "cell_type": "markdown",
   "metadata": {},
   "source": [
    "### Kesimpulan:\n",
    "Pada category berbanding harga, kategori 3B, merupakan rata-rata category rumah huni yg paling mahal dan kategori 5A merupakan category rumah paling rumah rata-rata.<br>\n",
    "sedangkan semakin banyak ruangan cenderung semakin mahal harga rumah huni apartemen. Tetapi pada jumlah ruangan 7, cenderung lebih murah dibanding ruangan 6. <br>\n",
    "Kedua variabel ini dapat mempengaruhi harga dari suatu hunian apartemen"
   ]
  },
  {
   "cell_type": "markdown",
   "metadata": {},
   "source": [
    "## Perbandingan totalprice(harga) terhadap variabel yang memiliki korelasi tinggi (zone, elevator, toilets, dan garage)"
   ]
  },
  {
   "cell_type": "code",
   "execution_count": 116,
   "metadata": {},
   "outputs": [
    {
     "data": {
      "image/png": "[encoded data removed]",
      "text/plain": [
       "<matplotlib.figure.Figure at 0x14f3488b128>"
      ]
     },
     "metadata": {},
     "output_type": "display_data"
    }
   ],
   "source": [
    "zone_sort = df[['zone','totalprice']].groupby('zone').mean().sort_values('totalprice', ascending=False)\n",
    "elevator_sort = df[['elevator','totalprice']].groupby('elevator').mean().sort_values('totalprice', ascending=False)\n",
    "toilets_sort = df[['toilets','totalprice']].groupby('toilets').mean().sort_values('totalprice', ascending=False)\n",
    "garage_sort = df[['garage','totalprice']].groupby('garage').mean().sort_values('totalprice', ascending=False)\n",
    "\n",
    "f= plt.figure(figsize=(15,25))\n",
    "\n",
    "f.add_subplot(4,1,1)\n",
    "sns.boxplot(x=\"zone\", y=\"totalprice\", data = df,order = zone_sort.index)\n",
    "\n",
    "f.add_subplot(4,1,2)\n",
    "sns.boxplot(x=\"elevator\", y=\"totalprice\", data = df,order = elevator_sort.index, hue='floor')\n",
    "\n",
    "f.add_subplot(4,1,3)\n",
    "sns.boxplot(x=\"toilets\", y=\"totalprice\", data = df,order = toilets_sort.index, hue='rooms')\n",
    "\n",
    "f.add_subplot(4,1,4)\n",
    "sns.boxplot(x=\"garage\", y=\"totalprice\", data = df,order = garage_sort.index)\n",
    "plt.show()"
   ]
  },
  {
   "cell_type": "markdown",
   "metadata": {},
   "source": [
    "### Kesimpulan\n",
    "Perbandingan ini menunjukkan bahwa korelasi harga apartemen terhadap parameter zone, elevator, toilets, dan garage<br>\n",
    "1. Zone: Z42 merupakan daerah termahal dalam segi harga dan Z11 merupakan daerah terendah\n",
    "2. Elevator: Jika adanya Elevator tentunya akan memengaruhi harga lebih mahal, ditunjukkan pada visualisasi diatas. Selain itu, semakin tinggi apartemen juga semakin bergantung adanya elevator\n",
    "3. toilets: Semakin banyak jumlah toilet, rata-rata harga pun juga semakin naik.\n",
    "4. Garage: Semakin banyak jumlah garasi, juga mempengaruhi harga suatu rumah huni apartemen"
   ]
  },
  {
   "cell_type": "markdown",
   "metadata": {},
   "source": [
    "## Perbandingan persebaran data antara umur dan harga rumah huni apartemen"
   ]
  },
  {
   "cell_type": "code",
   "execution_count": 113,
   "metadata": {},
   "outputs": [
    {
     "data": {
      "image/png": "[encoded data removed]",
      "text/plain": [
       "<matplotlib.figure.Figure at 0x14f32c610b8>"
      ]
     },
     "metadata": {},
     "output_type": "display_data"
    }
   ],
   "source": [
    "f = plt.figure(figsize=(16, 10))\n",
    "\n",
    "f.add_subplot(2,1,1)\n",
    "plt.scatter(df['age'],df['totalprice'])\n",
    "plt.title(' ')\n",
    "plt.xlabel('Age')\n",
    "plt.ylabel('Price')\n",
    "\n",
    "f.add_subplot(2,1,2)\n",
    "sns.regplot(x = 'age', y = 'totalprice', data = df)\n",
    "plt.xlabel('Age')\n",
    "plt.ylabel('Price')\n",
    "plt.show()"
   ]
  },
  {
   "cell_type": "markdown",
   "metadata": {},
   "source": [
    "### Kesimpulan\n",
    "Kesimpulan dari persebaran diatas ialah rata-rata rumah hunian ialah kisaran 200.000 hingga 300.000 pada rentang umur penghuni 15-25"
   ]
  },
  {
   "cell_type": "markdown",
   "metadata": {},
   "source": [
    "## 4. Variable Selection: Choose the variable and its reason."
   ]
  },
  {
   "cell_type": "code",
   "execution_count": 117,
   "metadata": {},
   "outputs": [
    {
     "data": {
      "text/html": [
       "<div>\n",
       "<style scoped>\n",
       "    .dataframe tbody tr th:only-of-type {\n",
       "        vertical-align: middle;\n",
       "    }\n",
       "\n",
       "    .dataframe tbody tr th {\n",
       "        vertical-align: top;\n",
       "    }\n",
       "\n",
       "    .dataframe thead th {\n",
       "        text-align: right;\n",
       "    }\n",
       "</style>\n",
       "<table border=\"1\" class=\"dataframe\">\n",
       "  <thead>\n",
       "    <tr style=\"text-align: right;\">\n",
       "      <th></th>\n",
       "      <th>age</th>\n",
       "      <th>rooms</th>\n",
       "      <th>toilets</th>\n",
       "      <th>garage</th>\n",
       "      <th>elevator</th>\n",
       "      <th>tras</th>\n",
       "      <th>zone_Z11</th>\n",
       "      <th>zone_Z21</th>\n",
       "      <th>zone_Z31</th>\n",
       "      <th>zone_Z32</th>\n",
       "      <th>...</th>\n",
       "      <th>conservation_B</th>\n",
       "      <th>conservation_C</th>\n",
       "      <th>streetcategory_S2</th>\n",
       "      <th>streetcategory_S3</th>\n",
       "      <th>streetcategory_S4</th>\n",
       "      <th>streetcategory_S5</th>\n",
       "      <th>heating_1A</th>\n",
       "      <th>heating_3A</th>\n",
       "      <th>heating_3B</th>\n",
       "      <th>heating_4A</th>\n",
       "    </tr>\n",
       "  </thead>\n",
       "  <tbody>\n",
       "    <tr>\n",
       "      <th>0</th>\n",
       "      <td>33</td>\n",
       "      <td>5</td>\n",
       "      <td>1</td>\n",
       "      <td>0</td>\n",
       "      <td>1</td>\n",
       "      <td>0</td>\n",
       "      <td>0</td>\n",
       "      <td>0</td>\n",
       "      <td>0</td>\n",
       "      <td>0</td>\n",
       "      <td>...</td>\n",
       "      <td>0</td>\n",
       "      <td>1</td>\n",
       "      <td>0</td>\n",
       "      <td>1</td>\n",
       "      <td>0</td>\n",
       "      <td>0</td>\n",
       "      <td>0</td>\n",
       "      <td>1</td>\n",
       "      <td>0</td>\n",
       "      <td>0</td>\n",
       "    </tr>\n",
       "    <tr>\n",
       "      <th>1</th>\n",
       "      <td>5</td>\n",
       "      <td>5</td>\n",
       "      <td>2</td>\n",
       "      <td>1</td>\n",
       "      <td>1</td>\n",
       "      <td>1</td>\n",
       "      <td>0</td>\n",
       "      <td>0</td>\n",
       "      <td>1</td>\n",
       "      <td>0</td>\n",
       "      <td>...</td>\n",
       "      <td>0</td>\n",
       "      <td>0</td>\n",
       "      <td>0</td>\n",
       "      <td>0</td>\n",
       "      <td>0</td>\n",
       "      <td>1</td>\n",
       "      <td>0</td>\n",
       "      <td>0</td>\n",
       "      <td>0</td>\n",
       "      <td>1</td>\n",
       "    </tr>\n",
       "    <tr>\n",
       "      <th>2</th>\n",
       "      <td>14</td>\n",
       "      <td>5</td>\n",
       "      <td>2</td>\n",
       "      <td>0</td>\n",
       "      <td>1</td>\n",
       "      <td>0</td>\n",
       "      <td>0</td>\n",
       "      <td>0</td>\n",
       "      <td>0</td>\n",
       "      <td>0</td>\n",
       "      <td>...</td>\n",
       "      <td>0</td>\n",
       "      <td>0</td>\n",
       "      <td>1</td>\n",
       "      <td>0</td>\n",
       "      <td>0</td>\n",
       "      <td>0</td>\n",
       "      <td>0</td>\n",
       "      <td>1</td>\n",
       "      <td>0</td>\n",
       "      <td>0</td>\n",
       "    </tr>\n",
       "    <tr>\n",
       "      <th>3</th>\n",
       "      <td>41</td>\n",
       "      <td>4</td>\n",
       "      <td>1</td>\n",
       "      <td>0</td>\n",
       "      <td>0</td>\n",
       "      <td>0</td>\n",
       "      <td>0</td>\n",
       "      <td>0</td>\n",
       "      <td>0</td>\n",
       "      <td>0</td>\n",
       "      <td>...</td>\n",
       "      <td>1</td>\n",
       "      <td>0</td>\n",
       "      <td>0</td>\n",
       "      <td>1</td>\n",
       "      <td>0</td>\n",
       "      <td>0</td>\n",
       "      <td>1</td>\n",
       "      <td>0</td>\n",
       "      <td>0</td>\n",
       "      <td>0</td>\n",
       "    </tr>\n",
       "    <tr>\n",
       "      <th>4</th>\n",
       "      <td>22</td>\n",
       "      <td>7</td>\n",
       "      <td>2</td>\n",
       "      <td>0</td>\n",
       "      <td>1</td>\n",
       "      <td>1</td>\n",
       "      <td>0</td>\n",
       "      <td>0</td>\n",
       "      <td>1</td>\n",
       "      <td>0</td>\n",
       "      <td>...</td>\n",
       "      <td>0</td>\n",
       "      <td>0</td>\n",
       "      <td>0</td>\n",
       "      <td>0</td>\n",
       "      <td>1</td>\n",
       "      <td>0</td>\n",
       "      <td>0</td>\n",
       "      <td>0</td>\n",
       "      <td>0</td>\n",
       "      <td>1</td>\n",
       "    </tr>\n",
       "  </tbody>\n",
       "</table>\n",
       "<p>5 rows × 51 columns</p>\n",
       "</div>"
      ],
      "text/plain": [
       "   age  rooms  toilets  garage  elevator  tras  zone_Z11  zone_Z21  zone_Z31  \\\n",
       "0   33      5        1       0         1     0         0         0         0   \n",
       "1    5      5        2       1         1     1         0         0         1   \n",
       "2   14      5        2       0         1     0         0         0         0   \n",
       "3   41      4        1       0         0     0         0         0         0   \n",
       "4   22      7        2       0         1     1         0         0         1   \n",
       "\n",
       "   zone_Z32     ...      conservation_B  conservation_C  streetcategory_S2  \\\n",
       "0         0     ...                   0               1                  0   \n",
       "1         0     ...                   0               0                  0   \n",
       "2         0     ...                   0               0                  1   \n",
       "3         0     ...                   1               0                  0   \n",
       "4         0     ...                   0               0                  0   \n",
       "\n",
       "   streetcategory_S3  streetcategory_S4  streetcategory_S5  heating_1A  \\\n",
       "0                  1                  0                  0           0   \n",
       "1                  0                  0                  1           0   \n",
       "2                  0                  0                  0           0   \n",
       "3                  1                  0                  0           1   \n",
       "4                  0                  1                  0           0   \n",
       "\n",
       "   heating_3A  heating_3B  heating_4A  \n",
       "0           1           0           0  \n",
       "1           0           0           1  \n",
       "2           1           0           0  \n",
       "3           0           0           0  \n",
       "4           0           0           1  \n",
       "\n",
       "[5 rows x 51 columns]"
      ]
     },
     "execution_count": 117,
     "metadata": {},
     "output_type": "execute_result"
    }
   ],
   "source": [
    "y = df['totalprice']\n",
    "x = df.drop(['totalprice','area','row.labels','floor'],axis=1)\n",
    "\n",
    "x = pd.get_dummies(x)\n",
    "x.head()"
   ]
  },
  {
   "cell_type": "markdown",
   "metadata": {},
   "source": [
    "Untuk pemodelan ini, saya memilih totalprice karena dapat dikorelasikan terhadap semua variabel yang ada di dataset. Untuk pemodelan tentunya perlu parameter variabel yang digunakan. Variabel yang digunakan ialah variabel yang memiliki cukup ataupun tinggi korelasi terhadap totalprice<br>\n",
    "Oleh karena itu, area, row.labels, dan floor tidak dijadikan parameter karena memiliki korelasi yang kecil terhadap totalprice"
   ]
  },
  {
   "cell_type": "markdown",
   "metadata": {},
   "source": [
    "## 5. Modelling: Create models"
   ]
  },
  {
   "cell_type": "code",
   "execution_count": 118,
   "metadata": {},
   "outputs": [],
   "source": [
    "from sklearn.model_selection import train_test_split\n",
    "x_train, x_test, y_train, y_test = train_test_split(x,y,test_size=0.2, random_state=0)"
   ]
  },
  {
   "cell_type": "markdown",
   "metadata": {},
   "source": [
    "Melakukan split dataset training dan testing menjadi training(80%), dan testing(20%)"
   ]
  },
  {
   "cell_type": "code",
   "execution_count": 119,
   "metadata": {},
   "outputs": [
    {
     "data": {
      "text/plain": [
       "[sklearn.tree.tree.DecisionTreeRegressor,\n",
       " sklearn.linear_model.base.LinearRegression,\n",
       " sklearn.linear_model.ridge.Ridge,\n",
       " sklearn.linear_model.coordinate_descent.Lasso,\n",
       " sklearn.neighbors.regression.KNeighborsRegressor,\n",
       " sklearn.ensemble.forest.RandomForestRegressor,\n",
       " sklearn.ensemble.gradient_boosting.GradientBoostingRegressor]"
      ]
     },
     "execution_count": 119,
     "metadata": {},
     "output_type": "execute_result"
    }
   ],
   "source": [
    "all_model = [DecisionTreeRegressor,\n",
    "            LinearRegression,\n",
    "             Ridge,\n",
    "             Lasso,\n",
    "             KNeighborsRegressor,\n",
    "             #SVR,\n",
    "            RandomForestRegressor,\n",
    "            GradientBoostingRegressor]\n",
    "\n",
    "desc_model = ['DecisionTreeRegressor',\n",
    "            'LinearRegression',\n",
    "             'Ridge Regression',\n",
    "             'Lasso Regression',\n",
    "             'KNeighborsRegressor',\n",
    "            # 'SVR',\n",
    "            'RandomForestRegressor',\n",
    "            'GradientBoostingRegressor']\n",
    "\n",
    "all_model"
   ]
  },
  {
   "cell_type": "markdown",
   "metadata": {},
   "source": [
    "Melakukan modelling menggunakan DecisionTreeRegression, LinearRegression,Ridge Regression, Lasso Regression, KN Regression, Random Forest Regression, dan Gradieng Boosting Regression. <br>\n",
    "Semua model dilakukan dan nantinya akan dilihat hasil dan tingkat akurasi mana yang terbaik untuk dipilih sebagai model yang digunakan"
   ]
  },
  {
   "cell_type": "code",
   "execution_count": 120,
   "metadata": {},
   "outputs": [],
   "source": [
    "from sklearn.metrics import mean_squared_error, r2_score\n",
    "\n",
    "R2_train = []\n",
    "R2_test = []\n",
    "RMSE =[]\n",
    "CV =[]\n",
    "\n",
    "for i in all_model:\n",
    "    model = i()\n",
    "    model.fit(x_train,y_train)\n",
    "    y_pred=model.predict(x_test)\n",
    "    R2_train.append(model.score(x_train,y_train))\n",
    "    R2_test.append(model.score(x_test,y_test))\n",
    "    rmse=np.sqrt(mean_squared_error(y_test, y_pred))\n",
    "    RMSE.append(rmse)\n",
    "    CV.append(rmse/df['totalprice'].mean())"
   ]
  },
  {
   "cell_type": "markdown",
   "metadata": {},
   "source": [
    "Melakukan looping untuk menguji semua model yang sudah ditetapkan sebelumnya. Pengujian yang dilakukan menggunakan RMSE(Root Mean Squared Error, Coeficience Variance, lalu melihat GAP dari R Square"
   ]
  },
  {
   "cell_type": "code",
   "execution_count": 121,
   "metadata": {},
   "outputs": [
    {
     "data": {
      "text/html": [
       "<div>\n",
       "<style scoped>\n",
       "    .dataframe tbody tr th:only-of-type {\n",
       "        vertical-align: middle;\n",
       "    }\n",
       "\n",
       "    .dataframe tbody tr th {\n",
       "        vertical-align: top;\n",
       "    }\n",
       "\n",
       "    .dataframe thead th {\n",
       "        text-align: right;\n",
       "    }\n",
       "</style>\n",
       "<table border=\"1\" class=\"dataframe\">\n",
       "  <thead>\n",
       "    <tr style=\"text-align: right;\">\n",
       "      <th></th>\n",
       "      <th>model</th>\n",
       "      <th>RMSE</th>\n",
       "      <th>Coef_Variance</th>\n",
       "      <th>R-Square_Train</th>\n",
       "      <th>R-Square_Test</th>\n",
       "      <th>R-Square_Gap</th>\n",
       "    </tr>\n",
       "  </thead>\n",
       "  <tbody>\n",
       "    <tr>\n",
       "      <th>2</th>\n",
       "      <td>Ridge Regression</td>\n",
       "      <td>32801.186412</td>\n",
       "      <td>0.116838</td>\n",
       "      <td>0.872191</td>\n",
       "      <td>0.815055</td>\n",
       "      <td>0.057137</td>\n",
       "    </tr>\n",
       "    <tr>\n",
       "      <th>3</th>\n",
       "      <td>Lasso Regression</td>\n",
       "      <td>32497.937314</td>\n",
       "      <td>0.115758</td>\n",
       "      <td>0.878624</td>\n",
       "      <td>0.818458</td>\n",
       "      <td>0.060165</td>\n",
       "    </tr>\n",
       "    <tr>\n",
       "      <th>1</th>\n",
       "      <td>LinearRegression</td>\n",
       "      <td>32497.928110</td>\n",
       "      <td>0.115757</td>\n",
       "      <td>0.878624</td>\n",
       "      <td>0.818459</td>\n",
       "      <td>0.060165</td>\n",
       "    </tr>\n",
       "    <tr>\n",
       "      <th>6</th>\n",
       "      <td>GradientBoostingRegressor</td>\n",
       "      <td>33426.544203</td>\n",
       "      <td>0.119065</td>\n",
       "      <td>0.956032</td>\n",
       "      <td>0.807935</td>\n",
       "      <td>0.148097</td>\n",
       "    </tr>\n",
       "    <tr>\n",
       "      <th>5</th>\n",
       "      <td>RandomForestRegressor</td>\n",
       "      <td>39385.841445</td>\n",
       "      <td>0.140292</td>\n",
       "      <td>0.940252</td>\n",
       "      <td>0.733348</td>\n",
       "      <td>0.206904</td>\n",
       "    </tr>\n",
       "    <tr>\n",
       "      <th>0</th>\n",
       "      <td>DecisionTreeRegressor</td>\n",
       "      <td>34916.866279</td>\n",
       "      <td>0.124374</td>\n",
       "      <td>0.998768</td>\n",
       "      <td>0.790427</td>\n",
       "      <td>0.208341</td>\n",
       "    </tr>\n",
       "    <tr>\n",
       "      <th>4</th>\n",
       "      <td>KNeighborsRegressor</td>\n",
       "      <td>61826.252994</td>\n",
       "      <td>0.220225</td>\n",
       "      <td>0.591764</td>\n",
       "      <td>0.342932</td>\n",
       "      <td>0.248832</td>\n",
       "    </tr>\n",
       "  </tbody>\n",
       "</table>\n",
       "</div>"
      ],
      "text/plain": [
       "                       model          RMSE  Coef_Variance  R-Square_Train  \\\n",
       "2           Ridge Regression  32801.186412       0.116838        0.872191   \n",
       "3           Lasso Regression  32497.937314       0.115758        0.878624   \n",
       "1           LinearRegression  32497.928110       0.115757        0.878624   \n",
       "6  GradientBoostingRegressor  33426.544203       0.119065        0.956032   \n",
       "5      RandomForestRegressor  39385.841445       0.140292        0.940252   \n",
       "0      DecisionTreeRegressor  34916.866279       0.124374        0.998768   \n",
       "4        KNeighborsRegressor  61826.252994       0.220225        0.591764   \n",
       "\n",
       "   R-Square_Test  R-Square_Gap  \n",
       "2       0.815055      0.057137  \n",
       "3       0.818458      0.060165  \n",
       "1       0.818459      0.060165  \n",
       "6       0.807935      0.148097  \n",
       "5       0.733348      0.206904  \n",
       "0       0.790427      0.208341  \n",
       "4       0.342932      0.248832  "
      ]
     },
     "execution_count": 121,
     "metadata": {},
     "output_type": "execute_result"
    }
   ],
   "source": [
    "## compare model each other\n",
    "Eval = pd.DataFrame()\n",
    "Eval['model'] = desc_model\n",
    "Eval['RMSE'] = RMSE\n",
    "Eval['Coef_Variance']= CV\n",
    "Eval['R-Square_Train'] = R2_train\n",
    "Eval['R-Square_Test'] = R2_test\n",
    "Eval['R-Square_Gap'] = abs(Eval['R-Square_Train'] -Eval['R-Square_Test'])\n",
    "Eval.sort_values(by='R-Square_Gap',ascending=True)"
   ]
  },
  {
   "cell_type": "markdown",
   "metadata": {},
   "source": [
    "Berikut adalah hasil dari pengujiannya<br>\n",
    "Saya memilih Ridge Regression karena paramter yang sangat penting ialah melihat dari R Square Gap nya dimana perbandingan antara training dan testing nya kecil. Hal itu merepresentasikan bahwa tingkat akurasi yang dilakukan untuk melakukan prediksi cukup tinggi karena hasil training dan testingnya GAP nya kecil"
   ]
  },
  {
   "cell_type": "code",
   "execution_count": 122,
   "metadata": {},
   "outputs": [
    {
     "data": {
      "text/plain": [
       "Ridge(alpha=1.0, copy_X=True, fit_intercept=True, max_iter=None,\n",
       "   normalize=False, random_state=None, solver='auto', tol=0.001)"
      ]
     },
     "execution_count": 122,
     "metadata": {},
     "output_type": "execute_result"
    }
   ],
   "source": [
    "from sklearn.linear_model import Ridge \n",
    "model = Ridge()\n",
    "model.fit(x_train,y_train)"
   ]
  },
  {
   "cell_type": "markdown",
   "metadata": {},
   "source": [
    "Melakukan pemodelan dari Ridge Regression"
   ]
  },
  {
   "cell_type": "markdown",
   "metadata": {},
   "source": [
    "## 6. Accuracy or Error: Calculate the Error using the helper function from the library, from dataset only"
   ]
  },
  {
   "cell_type": "code",
   "execution_count": 31,
   "metadata": {},
   "outputs": [],
   "source": [
    "from sklearn.metrics import mean_squared_error, r2_score\n",
    "y_pred = model.predict(x_test)"
   ]
  },
  {
   "cell_type": "code",
   "execution_count": 32,
   "metadata": {},
   "outputs": [],
   "source": [
    "rmse = mean_squared_error(y_test,y_pred)"
   ]
  },
  {
   "cell_type": "code",
   "execution_count": 33,
   "metadata": {},
   "outputs": [],
   "source": [
    "r2 = r2_score(y_test,y_pred)"
   ]
  },
  {
   "cell_type": "code",
   "execution_count": 34,
   "metadata": {},
   "outputs": [],
   "source": [
    "cv = rmse/df['totalprice'].mean()"
   ]
  },
  {
   "cell_type": "code",
   "execution_count": 35,
   "metadata": {},
   "outputs": [
    {
     "name": "stdout",
     "output_type": "stream",
     "text": [
      "root mean squared error:  1083482505.1652102\n",
      "r2 score:  0.8137542462258823\n",
      "coofisien Variance:  3859.359635490622\n"
     ]
    }
   ],
   "source": [
    "print('root mean squared error: ',rmse)\n",
    "print('r2 score: ',r2)\n",
    "print('coofisien Variance: ',cv)"
   ]
  },
  {
   "cell_type": "markdown",
   "metadata": {},
   "source": [
    "# Kesimpulan"
   ]
  },
  {
   "cell_type": "markdown",
   "metadata": {},
   "source": [
    "Dalam menyelesaikan permasalahan Toni yang ingin memprediksi harga Apartemen.\n",
    "1. Pertama-tama Toni melakukan Pre-Processing data yang meliputi me-load data, melihat overview data.\n",
    "2. Lalu,Toni melakukan analisa data dengan melihat visualisasi data sehingga parameter apa saja yang bisa dibandingkan yang dapat mempengaruhi harga suatu apartemen di Victoria.\n",
    "3. Setelah menganalisa visualisasi data, Toni membandingkan model mana yang terbaik untuk digunakan prediksi dengan membandingkan beberapa model seperti: DecisionTreeRegression, LinearRegression,Ridge Regression, Lasso Regression, KN Regression, Random Forest Regression, dan Gradieng Boosting Regression. Dan setelah dibandingkan, muncullah hasil terbaik yaitu menggunakan **Ridge Regression** karena GAP dari data training dan data testingnya kecil sehingga bisa terlihat keakurasian untuk prediksinya.\n",
    "4. Lalu Toni melakukan pemodelan menggunakan Ridge Reggression.\n",
    "5. Setelah mengembangkan pemodelan, Toni mengevaluasi hasil pemodelan dan keakuratan dari pemodelan Toni menggunakan RMSE dan R2 Score. Setelah dilihat ternyata hasil evaluasi Toni cukup yaitu dengan nilai R2 Score 0,81.<br>\n",
    "Alhasil, Toni dapat menyelesaikan prediksi harga Apartemen menggunakan model Ridge Regression dan analisis-analisis yang dilakukan sebelumnya"
   ]
  },
  {
   "cell_type": "code",
   "execution_count": null,
   "metadata": {},
   "outputs": [],
   "source": []
  }
 ],
 "metadata": {
  "kernelspec": {
   "display_name": "Python 3",
   "language": "python",
   "name": "python3"
  },
  "language_info": {
   "codemirror_mode": {
    "name": "ipython",
    "version": 3
   },
   "file_extension": ".py",
   "mimetype": "text/x-python",
   "name": "python",
   "nbconvert_exporter": "python",
   "pygments_lexer": "ipython3",
   "version": "3.6.4"
  }
 },
 "nbformat": 4,
 "nbformat_minor": 2
}
